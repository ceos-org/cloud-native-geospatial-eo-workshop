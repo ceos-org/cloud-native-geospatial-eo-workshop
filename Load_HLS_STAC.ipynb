{
 "cells": [
  {
   "cell_type": "markdown",
   "metadata": {},
   "source": [
    "## Imports"
   ]
  },
  {
   "cell_type": "code",
   "execution_count": null,
   "metadata": {},
   "outputs": [],
   "source": [
    "import json\n",
    "\n",
    "from odc.stac import configure_rio, load\n",
    "from pystac_client import Client\n",
    "import geopandas as gpd\n",
    "import numpy as np\n",
    "\n",
    "from utils import hls_config"
   ]
  },
  {
   "cell_type": "markdown",
   "metadata": {},
   "source": [
    "### Set up Dask client"
   ]
  },
  {
   "cell_type": "code",
   "execution_count": null,
   "metadata": {},
   "outputs": [],
   "source": [
    "import dask.distributed\n",
    "from IPython.display import display\n",
    "\n",
    "client = dask.distributed.Client()\n",
    "display(client)"
   ]
  },
  {
   "cell_type": "markdown",
   "metadata": {},
   "source": [
    "## Connect to EarthData STAC"
   ]
  },
  {
   "cell_type": "code",
   "execution_count": null,
   "metadata": {},
   "outputs": [],
   "source": [
    "catalog = \"https://cmr.earthdata.nasa.gov/cloudstac/LPCLOUD/\"\n",
    "\n",
    "# Searching across both landsat and sentinel at 30 m\n",
    "collections = [\"HLSS30.v2.0\", \"HLSL30.v2.0\"]\n",
    "\n",
    "client = Client.open(catalog)"
   ]
  },
  {
   "cell_type": "markdown",
   "metadata": {},
   "source": [
    "## Set up query"
   ]
  },
  {
   "cell_type": "markdown",
   "metadata": {},
   "source": [
    "### Get bounding box from area of interest geojson"
   ]
  },
  {
   "cell_type": "code",
   "execution_count": null,
   "metadata": {},
   "outputs": [],
   "source": [
    "# Get bounding box from AOI\n",
    "aoi = gpd.read_file(\"aoi.geojson\")\n",
    "\n",
    "aoi_geom = aoi.iloc[0].geometry"
   ]
  },
  {
   "cell_type": "markdown",
   "metadata": {},
   "source": [
    "### Set start and end date"
   ]
  },
  {
   "cell_type": "code",
   "execution_count": null,
   "metadata": {},
   "outputs": [],
   "source": [
    "start_date = \"2022-06-01\"\n",
    "end_date = \"2023-06-01\"\n",
    "date_range = f\"{start_date}/{end_date}\""
   ]
  },
  {
   "cell_type": "markdown",
   "metadata": {},
   "source": [
    "## Run query to identify STAC items"
   ]
  },
  {
   "cell_type": "code",
   "execution_count": null,
   "metadata": {},
   "outputs": [],
   "source": [
    "# Check search for geopolygon arg instead of bbox if possible\n",
    "# Search for items in the collection\n",
    "items = list(\n",
    "    client.search(\n",
    "        collections=collections, intersects=aoi_geom, datetime=date_range\n",
    "    ).items()\n",
    ")\n",
    "\n",
    "print(f\"Found {len(items)} items\")"
   ]
  },
  {
   "cell_type": "markdown",
   "metadata": {},
   "source": [
    "## Load using odc-stac"
   ]
  },
  {
   "cell_type": "markdown",
   "metadata": {},
   "source": [
    "### Get EarthData token from secrets.json and authenticate"
   ]
  },
  {
   "cell_type": "code",
   "execution_count": null,
   "metadata": {},
   "outputs": [],
   "source": [
    "with open(\"secrets.json\") as f:\n",
    "    data = json.load(f)\n",
    "    token = data[\"earthdata\"][\"token\"]"
   ]
  },
  {
   "cell_type": "code",
   "execution_count": null,
   "metadata": {},
   "outputs": [],
   "source": [
    "# Configure GDAL. You need to export your earthdata token as an environment variable.\n",
    "header_string = f\"Authorization: Bearer {token}\"\n",
    "configure_rio(cloud_defaults=True, GDAL_HTTP_HEADERS=header_string)"
   ]
  },
  {
   "cell_type": "markdown",
   "metadata": {},
   "source": [
    "### Run the load by passing in the items list"
   ]
  },
  {
   "cell_type": "code",
   "execution_count": null,
   "metadata": {},
   "outputs": [],
   "source": [
    "data = load(\n",
    "    items,\n",
    "    resolution=30,\n",
    "    crs=\"EPSG:5530\",\n",
    "    chunks={},\n",
    "    groupby=\"solar_day\",\n",
    "    stac_cfg=hls_config,\n",
    "    bands=[\"red\", \"green\", \"blue\", \"nir\", \"fmask\"],\n",
    "    geopolygon=aoi_geom,\n",
    ")\n",
    "data"
   ]
  },
  {
   "cell_type": "markdown",
   "metadata": {},
   "source": [
    "## View the data"
   ]
  },
  {
   "cell_type": "code",
   "execution_count": null,
   "metadata": {},
   "outputs": [],
   "source": [
    "# Define a simple plotting function to reuse\n",
    "def plot_rgb(data):\n",
    "    data[[\"red\", \"green\", \"blue\"]].isel(time=slice(4, 7)).to_array().plot.imshow(\n",
    "        col=\"time\", col_wrap=3, vmin=0, vmax=3000\n",
    "    )\n",
    "\n",
    "\n",
    "plot_rgb(data)"
   ]
  },
  {
   "cell_type": "markdown",
   "metadata": {},
   "source": [
    "## Apply masking"
   ]
  },
  {
   "cell_type": "code",
   "execution_count": null,
   "metadata": {},
   "outputs": [],
   "source": [
    "# Write a function to reuse\n",
    "\n",
    "\n",
    "def apply_cloud_mask(data):\n",
    "    mask_str = \"00001110\"\n",
    "    mask_int = int(mask_str, base=2)\n",
    "    nodata = data.fmask == data.fmask.odc.nodata\n",
    "    mask = (data.fmask & mask_int != 0) | nodata\n",
    "\n",
    "    masked = data.astype(float).where(~mask, other=np.nan)\n",
    "    masked.drop_vars([\"fmask\"])\n",
    "\n",
    "    return masked\n",
    "\n",
    "\n",
    "masked = apply_cloud_mask(data)"
   ]
  },
  {
   "cell_type": "code",
   "execution_count": null,
   "metadata": {},
   "outputs": [],
   "source": [
    "# Show the masked data\n",
    "plot_rgb(masked)"
   ]
  },
  {
   "cell_type": "markdown",
   "metadata": {},
   "source": [
    "## Calculate a vegetation index"
   ]
  },
  {
   "cell_type": "code",
   "execution_count": null,
   "metadata": {},
   "outputs": [],
   "source": [
    "def scale_offset(band):\n",
    "    band = band / 10000\n",
    "    band = band.where(band > 0, other=np.nan)\n",
    "\n",
    "    return band\n",
    "\n",
    "\n",
    "def calculate_evi2(data):\n",
    "    nir = scale_offset(data.nir)\n",
    "    red = scale_offset(data.red)\n",
    "\n",
    "    evi2 = 2.5 * (nir - red) / (nir + 2.4 * red + 1)\n",
    "\n",
    "    return evi2\n",
    "\n",
    "\n",
    "masked[\"evi2\"] = calculate_evi2(masked)"
   ]
  },
  {
   "cell_type": "code",
   "execution_count": null,
   "metadata": {},
   "outputs": [],
   "source": [
    "def plot_evi2(data):\n",
    "    data.evi2.isel(time=slice(4, 7)).plot.imshow(col=\"time\", col_wrap=3)\n",
    "\n",
    "\n",
    "plot_evi2(masked)"
   ]
  },
  {
   "cell_type": "markdown",
   "metadata": {},
   "source": [
    "# Identify the period of max vegetation index"
   ]
  },
  {
   "cell_type": "markdown",
   "metadata": {},
   "source": [
    "## Start by computing the monthly median to infill areas that have been affected by cloud"
   ]
  },
  {
   "cell_type": "code",
   "execution_count": null,
   "metadata": {},
   "outputs": [],
   "source": [
    "# Create a monthly median now we have masked data\n",
    "median = masked.resample(time=\"1MS\").median()\n",
    "\n",
    "# Get Dask to run processing\n",
    "median = median.compute()"
   ]
  },
  {
   "cell_type": "code",
   "execution_count": null,
   "metadata": {},
   "outputs": [],
   "source": [
    "# Show the median data\n",
    "median"
   ]
  },
  {
   "cell_type": "code",
   "execution_count": null,
   "metadata": {},
   "outputs": [],
   "source": [
    "median.evi2.plot.imshow(col=\"time\", col_wrap=4)"
   ]
  },
  {
   "cell_type": "code",
   "execution_count": null,
   "metadata": {},
   "outputs": [],
   "source": [
    "mean_median_evi = median[\"evi2\"].mean([\"x\", \"y\"])\n",
    "\n",
    "mean_median_evi.plot()"
   ]
  },
  {
   "cell_type": "markdown",
   "metadata": {},
   "source": [
    "## Get historical imagery for a given period"
   ]
  },
  {
   "cell_type": "markdown",
   "metadata": {},
   "source": [
    "### Set up query and get data"
   ]
  },
  {
   "cell_type": "code",
   "execution_count": null,
   "metadata": {},
   "outputs": [],
   "source": [
    "year_range = range(2010, 2024)\n",
    "\n",
    "peak_vegetation_items = []\n",
    "\n",
    "for year in year_range:\n",
    "    start_date = f\"{year}-12-01\"\n",
    "    end_date = f\"{year+1}-02-28\"\n",
    "    date_range = f\"{start_date}/{end_date}\"\n",
    "\n",
    "    # Search for items in the collection\n",
    "    items = list(\n",
    "        client.search(\n",
    "            collections=collections, intersects=aoi_geom, datetime=date_range\n",
    "        ).items()\n",
    "    )\n",
    "\n",
    "    peak_vegetation_items.extend(items)"
   ]
  },
  {
   "cell_type": "code",
   "execution_count": null,
   "metadata": {},
   "outputs": [],
   "source": [
    "trend_data = load(\n",
    "    peak_vegetation_items,\n",
    "    resolution=30,\n",
    "    crs=\"EPSG:5530\",\n",
    "    chunks={},\n",
    "    groupby=\"solar_day\",\n",
    "    stac_cfg=hls_config,\n",
    "    bands=[\"red\", \"green\", \"blue\", \"nir\", \"fmask\"],\n",
    "    geopolygon=aoi,\n",
    ")\n",
    "trend_data"
   ]
  },
  {
   "cell_type": "markdown",
   "metadata": {},
   "source": [
    "## Calculate evi and mask data"
   ]
  },
  {
   "cell_type": "code",
   "execution_count": null,
   "metadata": {},
   "outputs": [],
   "source": [
    "trend_data[\"evi2\"] = calculate_evi2(trend_data)\n",
    "\n",
    "trend_data_masked = apply_cloud_mask(trend_data)"
   ]
  },
  {
   "cell_type": "markdown",
   "metadata": {},
   "source": [
    "## Resample to three monthly, starting in December of each year"
   ]
  },
  {
   "cell_type": "code",
   "execution_count": null,
   "metadata": {},
   "outputs": [],
   "source": [
    "# Resample data to quarters, from beginning of December\n",
    "quarters = trend_data_masked.resample(time=\"QS-DEC\").mean()\n",
    "\n",
    "# Only keep quaryers where the month start is December\n",
    "DJF_average = quarters.sel(time=quarters.time.dt.month == 12)\n",
    "\n",
    "# Compute\n",
    "DJF_average = DJF_average.compute()"
   ]
  },
  {
   "cell_type": "code",
   "execution_count": null,
   "metadata": {},
   "outputs": [],
   "source": [
    "DJF_average[\"evi2\"].plot.imshow(col=\"time\", col_wrap=4)"
   ]
  },
  {
   "cell_type": "markdown",
   "metadata": {},
   "source": [
    "## Get as a time series by taking the average EVI value for each year"
   ]
  },
  {
   "cell_type": "code",
   "execution_count": null,
   "metadata": {},
   "outputs": [],
   "source": [
    "evi_over_time = DJF_average[\"evi2\"].mean([\"x\", \"y\"])"
   ]
  },
  {
   "cell_type": "code",
   "execution_count": null,
   "metadata": {},
   "outputs": [],
   "source": [
    "evi_over_time.plot.scatter()"
   ]
  },
  {
   "cell_type": "code",
   "execution_count": null,
   "metadata": {},
   "outputs": [],
   "source": []
  }
 ],
 "metadata": {
  "kernelspec": {
   "display_name": "Python 3",
   "language": "python",
   "name": "python3"
  },
  "language_info": {
   "codemirror_mode": {
    "name": "ipython",
    "version": 3
   },
   "file_extension": ".py",
   "mimetype": "text/x-python",
   "name": "python",
   "nbconvert_exporter": "python",
   "pygments_lexer": "ipython3",
   "version": "3.11.8"
  },
  "orig_nbformat": 4
 },
 "nbformat": 4,
 "nbformat_minor": 2
}
