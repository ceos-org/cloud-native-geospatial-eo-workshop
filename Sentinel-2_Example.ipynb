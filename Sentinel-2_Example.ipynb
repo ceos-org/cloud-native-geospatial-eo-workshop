{
 "cells": [
  {
   "cell_type": "code",
   "execution_count": null,
   "metadata": {},
   "outputs": [],
   "source": [
    "import odc.geo.xr\n",
    "from dask.distributed import Client as dask_client\n",
    "from odc.stac import load\n",
    "from pystac_client import Client"
   ]
  },
  {
   "cell_type": "code",
   "execution_count": null,
   "metadata": {},
   "outputs": [],
   "source": [
    "dask_client().dashboard_link"
   ]
  },
  {
   "cell_type": "code",
   "execution_count": null,
   "metadata": {},
   "outputs": [],
   "source": [
    "client = Client.open(\"https://earth-search.aws.element84.com/v1/\")\n",
    "\n",
    "bbox = [146.45, -43.55, 146.75, -43.35]\n",
    "datetime = \"2024-03\"\n",
    "\n",
    "items = list(client.search(collections=[\"sentinel-2-c1-l2a\"], bbox=bbox, datetime=datetime).items())\n",
    "\n",
    "print(f\"Found {len(items)} items\")"
   ]
  },
  {
   "cell_type": "code",
   "execution_count": null,
   "metadata": {},
   "outputs": [],
   "source": [
    "data = load(items, bbox=bbox, datetime=datetime, groupby=\"solar_day\", chunks=dict(x=2048, y=2048), bands=[\"red\", \"green\", \"blue\"])\n",
    "data"
   ]
  },
  {
   "cell_type": "code",
   "execution_count": null,
   "metadata": {},
   "outputs": [],
   "source": [
    "data.isel(time=3).odc.explore(vmin=0, vmax=3000)"
   ]
  },
  {
   "cell_type": "code",
   "execution_count": null,
   "metadata": {},
   "outputs": [],
   "source": [
    "rgba = data.isel(time=3).odc.to_rgba(bands=[\"red\", \"green\", \"blue\"], vmin=0, vmax=3000)\n",
    "\n",
    "rgba.odc.write_cog(\"pb_rgba.tif\", overwrite=True)"
   ]
  }
 ],
 "metadata": {
  "kernelspec": {
   "display_name": "Python 3",
   "language": "python",
   "name": "python3"
  },
  "language_info": {
   "codemirror_mode": {
    "name": "ipython",
    "version": 3
   },
   "file_extension": ".py",
   "mimetype": "text/x-python",
   "name": "python",
   "nbconvert_exporter": "python",
   "pygments_lexer": "ipython3",
   "version": "3.11.7"
  }
 },
 "nbformat": 4,
 "nbformat_minor": 2
}
